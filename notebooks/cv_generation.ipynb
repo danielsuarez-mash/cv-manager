{
 "cells": [
  {
   "cell_type": "markdown",
   "metadata": {},
   "source": [
    "# AI-generated CV testing"
   ]
  },
  {
   "cell_type": "markdown",
   "metadata": {},
   "source": [
    "## Data retreival"
   ]
  },
  {
   "cell_type": "code",
   "execution_count": 3,
   "metadata": {},
   "outputs": [],
   "source": [
    "import pandas as pd\n",
    "import psycopg2"
   ]
  },
  {
   "cell_type": "code",
   "execution_count": 18,
   "metadata": {},
   "outputs": [
    {
     "name": "stderr",
     "output_type": "stream",
     "text": [
      "/var/folders/qj/506gdrfn55jc0hchzk5d05540000gn/T/ipykernel_23856/192697586.py:9: UserWarning: pandas only supports SQLAlchemy connectable (engine/connection) or database string URI or sqlite3 DBAPI2 connection. Other DBAPI2 objects are not tested. Please consider using SQLAlchemy.\n",
      "  data = pd.read_sql(query, conn)\n"
     ]
    }
   ],
   "source": [
    "with psycopg2.connect(\n",
    "    dbname=\"cv_manager\",\n",
    "    user=\"cvuser\",\n",
    "    password=\"cvpassword\",\n",
    "    host=\"localhost\",\n",
    "    port='5432'\n",
    ") as conn:\n",
    "    query = \"SELECT * FROM experiences;\"\n",
    "    data = pd.read_sql(query, conn)"
   ]
  },
  {
   "cell_type": "markdown",
   "metadata": {},
   "source": [
    "Let's create a CV for user 1. "
   ]
  },
  {
   "cell_type": "code",
   "execution_count": 57,
   "metadata": {},
   "outputs": [
    {
     "name": "stderr",
     "output_type": "stream",
     "text": [
      "/var/folders/qj/506gdrfn55jc0hchzk5d05540000gn/T/ipykernel_23856/2523801472.py:22: UserWarning: pandas only supports SQLAlchemy connectable (engine/connection) or database string URI or sqlite3 DBAPI2 connection. Other DBAPI2 objects are not tested. Please consider using SQLAlchemy.\n",
      "  data = pd.read_sql(query, conn)\n"
     ]
    },
    {
     "data": {
      "application/vnd.microsoft.datawrangler.viewer.v0+json": {
       "columns": [
        {
         "name": "index",
         "rawType": "int64",
         "type": "integer"
        },
        {
         "name": "organisation",
         "rawType": "object",
         "type": "string"
        },
        {
         "name": "engagement_title",
         "rawType": "object",
         "type": "string"
        },
        {
         "name": "type",
         "rawType": "object",
         "type": "string"
        },
        {
         "name": "experience_title",
         "rawType": "object",
         "type": "string"
        },
        {
         "name": "description",
         "rawType": "object",
         "type": "string"
        }
       ],
       "conversionMethod": "pd.DataFrame",
       "ref": "b30d91e8-1374-4857-95e6-d252182c4d3b",
       "rows": [
        [
         "0",
         "Google",
         "Software Engineer",
         "work",
         "Software Engineer",
         "Situation: Google was scaling its cloud services.\nTask: Led a team to optimize database performance.\nAction: Implemented indexing strategies and query optimizations.\nResult: Achieved a 40% reduction in query response time."
        ],
        [
         "1",
         "Google",
         "Software Engineer",
         "work",
         "Software Engineer",
         "Situation: Google needed a secure authentication system.\nTask: Designed a new OAuth-based system.\nAction: Developed a multi-factor authentication protocol.\nResult: Increased security compliance and reduced fraud by 30%."
        ],
        [
         "2",
         "McDonald’s",
         "Kitchen Hand",
         "work",
         "Kitchen Hand",
         "Situation: High customer volume at McDonald's.\nTask: Ensure quick and efficient food preparation.\nAction: Streamlined ingredient preparation process.\nResult: Reduced average food preparation time by 15%."
        ],
        [
         "3",
         "McDonald’s",
         "Kitchen Hand",
         "work",
         "Kitchen Hand",
         "Situation: Frequent errors in order fulfillment.\nTask: Improve order accuracy.\nAction: Introduced a double-checking system.\nResult: Decreased incorrect orders by 20%."
        ],
        [
         "4",
         "Self-employed",
         "Software Engineer",
         "side-hustle",
         "Software Engineer",
         "Situation: Developed custom web applications for clients.\nTask: Improve business efficiency through automation.\nAction: Created automated workflows using Python and JavaScript.\nResult: Saved clients an average of 10 hours per week on manual tasks."
        ],
        [
         "5",
         "Self-employed",
         "Software Engineer",
         "side-hustle",
         "Software Engineer",
         "Situation: Clients needed better data insights.\nTask: Build analytics dashboards.\nAction: Implemented real-time data visualization.\nResult: Increased client decision-making speed by 25%."
        ],
        [
         "6",
         "MIT",
         "Computer Science BSc",
         "education",
         "Computer Science BSc",
         "Situation: Studying foundational computer science.\nTask: Complete coursework on algorithms and systems.\nAction: Developed a real-time operating system simulation.\nResult: Earned top marks and presented at a student conference."
        ]
       ],
       "shape": {
        "columns": 5,
        "rows": 7
       }
      },
      "text/html": [
       "<div>\n",
       "<style scoped>\n",
       "    .dataframe tbody tr th:only-of-type {\n",
       "        vertical-align: middle;\n",
       "    }\n",
       "\n",
       "    .dataframe tbody tr th {\n",
       "        vertical-align: top;\n",
       "    }\n",
       "\n",
       "    .dataframe thead th {\n",
       "        text-align: right;\n",
       "    }\n",
       "</style>\n",
       "<table border=\"1\" class=\"dataframe\">\n",
       "  <thead>\n",
       "    <tr style=\"text-align: right;\">\n",
       "      <th></th>\n",
       "      <th>organisation</th>\n",
       "      <th>engagement_title</th>\n",
       "      <th>type</th>\n",
       "      <th>experience_title</th>\n",
       "      <th>description</th>\n",
       "    </tr>\n",
       "  </thead>\n",
       "  <tbody>\n",
       "    <tr>\n",
       "      <th>0</th>\n",
       "      <td>Google</td>\n",
       "      <td>Software Engineer</td>\n",
       "      <td>work</td>\n",
       "      <td>Software Engineer</td>\n",
       "      <td>Situation: Google was scaling its cloud servic...</td>\n",
       "    </tr>\n",
       "    <tr>\n",
       "      <th>1</th>\n",
       "      <td>Google</td>\n",
       "      <td>Software Engineer</td>\n",
       "      <td>work</td>\n",
       "      <td>Software Engineer</td>\n",
       "      <td>Situation: Google needed a secure authenticati...</td>\n",
       "    </tr>\n",
       "    <tr>\n",
       "      <th>2</th>\n",
       "      <td>McDonald’s</td>\n",
       "      <td>Kitchen Hand</td>\n",
       "      <td>work</td>\n",
       "      <td>Kitchen Hand</td>\n",
       "      <td>Situation: High customer volume at McDonald's....</td>\n",
       "    </tr>\n",
       "    <tr>\n",
       "      <th>3</th>\n",
       "      <td>McDonald’s</td>\n",
       "      <td>Kitchen Hand</td>\n",
       "      <td>work</td>\n",
       "      <td>Kitchen Hand</td>\n",
       "      <td>Situation: Frequent errors in order fulfillmen...</td>\n",
       "    </tr>\n",
       "    <tr>\n",
       "      <th>4</th>\n",
       "      <td>Self-employed</td>\n",
       "      <td>Software Engineer</td>\n",
       "      <td>side-hustle</td>\n",
       "      <td>Software Engineer</td>\n",
       "      <td>Situation: Developed custom web applications f...</td>\n",
       "    </tr>\n",
       "    <tr>\n",
       "      <th>5</th>\n",
       "      <td>Self-employed</td>\n",
       "      <td>Software Engineer</td>\n",
       "      <td>side-hustle</td>\n",
       "      <td>Software Engineer</td>\n",
       "      <td>Situation: Clients needed better data insights...</td>\n",
       "    </tr>\n",
       "    <tr>\n",
       "      <th>6</th>\n",
       "      <td>MIT</td>\n",
       "      <td>Computer Science BSc</td>\n",
       "      <td>education</td>\n",
       "      <td>Computer Science BSc</td>\n",
       "      <td>Situation: Studying foundational computer scie...</td>\n",
       "    </tr>\n",
       "  </tbody>\n",
       "</table>\n",
       "</div>"
      ],
      "text/plain": [
       "    organisation      engagement_title         type      experience_title  \\\n",
       "0         Google     Software Engineer         work     Software Engineer   \n",
       "1         Google     Software Engineer         work     Software Engineer   \n",
       "2     McDonald’s          Kitchen Hand         work          Kitchen Hand   \n",
       "3     McDonald’s          Kitchen Hand         work          Kitchen Hand   \n",
       "4  Self-employed     Software Engineer  side-hustle     Software Engineer   \n",
       "5  Self-employed     Software Engineer  side-hustle     Software Engineer   \n",
       "6            MIT  Computer Science BSc    education  Computer Science BSc   \n",
       "\n",
       "                                         description  \n",
       "0  Situation: Google was scaling its cloud servic...  \n",
       "1  Situation: Google needed a secure authenticati...  \n",
       "2  Situation: High customer volume at McDonald's....  \n",
       "3  Situation: Frequent errors in order fulfillmen...  \n",
       "4  Situation: Developed custom web applications f...  \n",
       "5  Situation: Clients needed better data insights...  \n",
       "6  Situation: Studying foundational computer scie...  "
      ]
     },
     "execution_count": 57,
     "metadata": {},
     "output_type": "execute_result"
    }
   ],
   "source": [
    "# let's create a CV for user 1\n",
    "query = \"\"\"\n",
    "SELECT \n",
    "    e.organisation,\n",
    "    e.title as engagement_title,\n",
    "    ex.type,\n",
    "    ex.title as experience_title,\n",
    "    ex.description\n",
    "FROM \n",
    "    users u\n",
    "LEFT JOIN engagements e on u.user_id = e.user_id\n",
    "LEFT JOIN experiences ex on e.engagement_id = ex.engagement_id\n",
    "where u.user_id=1;\n",
    "\"\"\"\n",
    "with psycopg2.connect(\n",
    "    dbname=\"cv_manager\",\n",
    "    user=\"cvuser\",\n",
    "    password=\"cvpassword\",\n",
    "    host=\"localhost\",\n",
    "    port='5432'\n",
    ") as conn:\n",
    "    data = pd.read_sql(query, conn)\n",
    "\n",
    "data"
   ]
  },
  {
   "cell_type": "markdown",
   "metadata": {},
   "source": [
    "# CV generation\n",
    "\n",
    "Let's create a crew of agents who can generate a CV. First, let's build an agent which can, when given a job description, identify the most relevant experiences from a master CV."
   ]
  },
  {
   "cell_type": "code",
   "execution_count": 30,
   "metadata": {},
   "outputs": [],
   "source": [
    "from langchain_openai import ChatOpenAI\n",
    "\n",
    "llm = ChatOpenAI(\n",
    "    base_url=\"http://127.0.0.1:1234/v1\",\n",
    "    api_key=\"lm-studio\",\n",
    "    streaming=True\n",
    ")"
   ]
  },
  {
   "cell_type": "code",
   "execution_count": 54,
   "metadata": {},
   "outputs": [],
   "source": [
    "role = \"Senior Software Engineer\"\n",
    "\n",
    "job_requirements = \"\"\"\n",
    "What it's all about…\n",
    "\n",
    "As a Engineering Tech Lead, you will be responsible for:\n",
    "\n",
    "Define and communicate technical strategies aligning with business strategies\n",
    "Identify, and evaluate technical solutions to drive product and ecommerce vision\n",
    "Identify and implement new technologies, tools and processes to enhance efficiency and product quality\n",
    "Design and develop scalable and efficient systems\n",
    "Optimise system performance, enhance security and maintain high-quality codebases\n",
    "Implement and manage CI/CD pipelines for streamlined software development\n",
    "Conduct code reviews, establish coding standards and best practices\n",
    "Lead, mentor and inspire a team of engineers\n",
    "Encourage collaboration and continuous improvement\n",
    "Represent the engineering team and contribute to planning and decision making\n",
    "Ensure seamless integration across frontend and backend components\n",
    "Collaborate on database scaling and optimisation using technologies such as MySQL and PlanetScale\n",
    "Work closely with the Product Manager to define and prioritise the roadmap ensuring technical deliverables\n",
    "What we will need from you…\n",
    "\n",
    "Previous experience working in a frontend and backend software engineering role\n",
    "Proven experience in leading a technical team and mentoring engineers\n",
    "Strong proficiency in JavaScript, TypeScript and modern web frameworks (React, Node.js)\n",
    "Solid understanding of web service architectures (REST, GraphQL)\n",
    "Experience with web analytics platforms (GA4, Google Tag Manager) and tracking strategies\n",
    "Experience with cloud-based infrastructure (Fly.io, AWS) and container technologies (Docker)\n",
    "Experience with Agile methodologies and collaborative tools (Notion, JIRA, Trello)\n",
    "Demonstrated success in delivering and optimising digital products\n",
    "Knowledge in testing strategies, performance optimisation and DevOps principles\n",
    "A passion for continuous learning and driving technical innovation\n",
    "Excellent problem-solving skills and attention to detail\n",
    "Strong communication skills\n",
    "\"\"\""
   ]
  },
  {
   "cell_type": "code",
   "execution_count": 55,
   "metadata": {},
   "outputs": [],
   "source": [
    "from langchain_core.prompts import ChatPromptTemplate\n",
    "\n",
    "selector_prompt = \"\"\"\n",
    "You are a professional career coach. You will be given a master CV and details of the role which the user is applying for.\n",
    "Your job is to identify the top 3 most relevant work experiences and explain why. \n",
    "Return the indexes of the experiences you have chosen along with reasoning for each experience.\n",
    "\n",
    "Role: {role}\n",
    "\n",
    "Job Requirements: {job_requirements}\n",
    "\n",
    "Master CV: {master_cv}\n",
    "\n",
    "Output:\n",
    "\"\"\"\n",
    "\n",
    "prompt_template = ChatPromptTemplate.from_messages(\n",
    "    [(\"system\", selector_prompt)]\n",
    ")"
   ]
  },
  {
   "cell_type": "code",
   "execution_count": 59,
   "metadata": {},
   "outputs": [
    {
     "name": "stdout",
     "output_type": "stream",
     "text": [
      "\n",
      "You are a professional career coach. You will be given a master CV and job description.\n",
      "Your job is to identify the top 3 most relevant work experiences and explain why. \n",
      "Your output should be a filtered down master CV with the experiences you have chosen along with an extra field for your reasoning.\n",
      "\n",
      "Role: Senior Software Engineer\n",
      "\n",
      "Job Requirements: \n",
      "What it's all about…\n",
      "\n",
      "As a Engineering Tech Lead, you will be responsible for:\n",
      "\n",
      "Define and communicate technical strategies aligning with business strategies\n",
      "Identify, and evaluate technical solutions to drive product and ecommerce vision\n",
      "Identify and implement new technologies, tools and processes to enhance efficiency and product quality\n",
      "Design and develop scalable and efficient systems\n",
      "Optimise system performance, enhance security and maintain high-quality codebases\n",
      "Implement and manage CI/CD pipelines for streamlined software development\n",
      "Conduct code reviews, establish coding standards and best practices\n",
      "Lead, mentor and inspire a team of engineers\n",
      "Encourage collaboration and continuous improvement\n",
      "Represent the engineering team and contribute to planning and decision making\n",
      "Ensure seamless integration across frontend and backend components\n",
      "Collaborate on database scaling and optimisation using technologies such as MySQL and PlanetScale\n",
      "Work closely with the Product Manager to define and prioritise the roadmap ensuring technical deliverables\n",
      "What we will need from you…\n",
      "\n",
      "Previous experience working in a frontend and backend software engineering role\n",
      "Proven experience in leading a technical team and mentoring engineers\n",
      "Strong proficiency in JavaScript, TypeScript and modern web frameworks (React, Node.js)\n",
      "Solid understanding of web service architectures (REST, GraphQL)\n",
      "Experience with web analytics platforms (GA4, Google Tag Manager) and tracking strategies\n",
      "Experience with cloud-based infrastructure (Fly.io, AWS) and container technologies (Docker)\n",
      "Experience with Agile methodologies and collaborative tools (Notion, JIRA, Trello)\n",
      "Demonstrated success in delivering and optimising digital products\n",
      "Knowledge in testing strategies, performance optimisation and DevOps principles\n",
      "A passion for continuous learning and driving technical innovation\n",
      "Excellent problem-solving skills and attention to detail\n",
      "Strong communication skills\n",
      "\n",
      "\n",
      "Master CV:     organisation      engagement_title         type      experience_title  \\\n",
      "0         Google     Software Engineer         work     Software Engineer   \n",
      "1         Google     Software Engineer         work     Software Engineer   \n",
      "2     McDonald’s          Kitchen Hand         work          Kitchen Hand   \n",
      "3     McDonald’s          Kitchen Hand         work          Kitchen Hand   \n",
      "4  Self-employed     Software Engineer  side-hustle     Software Engineer   \n",
      "5  Self-employed     Software Engineer  side-hustle     Software Engineer   \n",
      "6            MIT  Computer Science BSc    education  Computer Science BSc   \n",
      "\n",
      "                                         description  \n",
      "0  Situation: Google was scaling its cloud servic...  \n",
      "1  Situation: Google needed a secure authenticati...  \n",
      "2  Situation: High customer volume at McDonald's....  \n",
      "3  Situation: Frequent errors in order fulfillmen...  \n",
      "4  Situation: Developed custom web applications f...  \n",
      "5  Situation: Clients needed better data insights...  \n",
      "6  Situation: Studying foundational computer scie...  \n",
      "\n",
      "Output:\n",
      "\n"
     ]
    }
   ],
   "source": [
    "prompt = prompt_template.invoke({\"role\": role, \"job_requirements\": job_requirements, \"master_cv\": data})\n",
    "print(prompt.to_messages()[0].content)"
   ]
  },
  {
   "cell_type": "code",
   "execution_count": 60,
   "metadata": {},
   "outputs": [],
   "source": [
    "chain = prompt_template | llm"
   ]
  },
  {
   "cell_type": "code",
   "execution_count": 61,
   "metadata": {},
   "outputs": [
    {
     "name": "stdout",
     "output_type": "stream",
     "text": [
      "Based on the provided job description and master CV, I have filtered down the top 3 most relevant work experiences as follows:\n",
      "\n",
      "**Filtered Down Master CV:**\n",
      "\n",
      "| Organisation | Engagement Title | Type | Experience Title | Reasoning |\n",
      "| --- | --- | --- | --- | --- |\n",
      "| Google | Software Engineer | work | Software Engineer | Leadership, technical expertise |\n",
      "| Self-employed | Software Engineer | side-hustle | Software Engineer | Custom web application development, problem-solving |\n",
      "| MIT | Computer Science BSc | education | Computer Science BSc | Foundational knowledge in computer science, problem-solving skills |\n",
      "\n",
      "**Rationale:**\n",
      "\n",
      "1. **Google (2 instances)**: As a Senior Software Engineer, experience leading technical teams and communicating strategies will be highly valued. Google's scale and security requirements also demonstrate the candidate's ability to handle complex systems.\n",
      "2. **Self-employed (2 instances)**: Developing custom web applications and data insights for clients showcases the candidate's problem-solving skills, adaptability, and ability to deliver results in a dynamic environment.\n",
      "3. **MIT (Computer Science BSc)**: A strong foundation in computer science is essential for a software engineering role. The MIT degree demonstrates the candidate's knowledge in programming languages, data structures, and algorithmic thinking.\n",
      "\n",
      "These three experiences are selected because they:\n",
      "\n",
      "* Showcase leadership and technical expertise (Google)\n",
      "* Demonstrate problem-solving skills, adaptability, and delivery in a dynamic environment (Self-employed)\n",
      "* Provide a strong foundation in computer science, essential for software engineering roles (MIT)\n"
     ]
    }
   ],
   "source": [
    "response = chain.invoke({\"role\": role, \"job_requirements\": job_requirements, \"master_cv\": data})\n",
    "print(response.content)"
   ]
  },
  {
   "cell_type": "code",
   "execution_count": 45,
   "metadata": {},
   "outputs": [],
   "source": [
    "from langchain_core.prompts import ChatPromptTemplate\n",
    "\n",
    "summarization_prompt_template = \"\"\"\n",
    "You are a professional CV writer. Given the following detailed STAR-formatted work experience and a set of job requirements, generate a concise, punchy bullet point suitable for a CV.\n",
    "\n",
    "Job Requirements: {job_requirements}\n",
    "\n",
    "Experience in STAR format:\n",
    "Situation: {situation}\n",
    "Task: {task}\n",
    "Action: {action}\n",
    "Result: {result}\n",
    "\n",
    "Bullet Point:\n",
    "\"\"\"\n",
    "\n",
    "prompt_template = ChatPromptTemplate.from_messages(\n",
    "    [(\"system\", system_template)]\n",
    ")"
   ]
  },
  {
   "cell_type": "code",
   "execution_count": 50,
   "metadata": {},
   "outputs": [
    {
     "name": "stdout",
     "output_type": "stream",
     "text": [
      "content=\"<think>\\nOkay, so I need to help improve the user's CV excerpt based on the job requirements provided. Let me start by understanding what each part of the job entails.\\n\\nThe job has six main points:\\n1. Propecting & Lead Generation: Actively seeking new clients through networking and cold calling.\\n2. Client Relationship Management: Building and nurturing relationships with clients.\\n3. Property Listings: Securing new property listings by presenting compelling pitches.\\n4. Conducting Viewings: Organizing and leading property viewings to attract buyers.\\n5. Negotiating Sales: Skillfully negotiating offers between buyers and sellers.\\n6. Market Analysis: Staying updated on market trends, values, and competitors.\\n\\nLooking at the user's CV excerpt: They spoke to many clients, some were nice, some weren't. They had to show people around properties and tell them about the place. It was alright, but sometimes it was a bit boring.\\n\\nFirst, I notice that the job emphasizes networking and cold calling, which isn't explicitly mentioned in the current CV excerpt. So I should probably add something about networking or active outreach.\\n\\nNext, they mention showing people around properties and telling about the place. That's a good point because it relates to promoting listings. Maybe I can structure it under Property Listings since that's one of the job points.\\n\\nThey also say it was alright but sometimes boring. While this is positive, maybe I can emphasize more on maintaining relationships or being engaging. This could tie into Client Relationship Management.\\n\\nI should also mention the client relationship management aspect because they built and nurture those relationships. Highlighting the successful clients they have could add credibility.\\n\\nAdditionally, while networking isn't mentioned in the current excerpt, it's important to touch on that since it's a key part of Propecting & Lead Generation.\\n\\nPutting this all together, I can rewrite the CV excerpt to include active outreach for leads, promotion of property listings with engaging content, building and maintaining client relationships, showing around properties, leading viewings, and staying updated on market trends. \\n\\nI'll structure each point under their respective job requirements where applicable. For example, under Property Listings and Client Relationship Management, I can mention the promotion and relationship-building. Under Networking, it's a bit vague but still relevant.\\n\\nAlso, using phrases that tie into all six points will help improve the excerpt and make it more aligned with the job requirements.\\n</think>\\n\\nCertainly! Here's an improved version of your CV excerpt, structured around the job requirements:\\n\\n---\\n\\n**CV Extract**\\n\\nI have successfully established relationships with several clients over the past year, which has been crucial in building long-term partnerships. While my initial interactions were engaging, I also recognized the importance of maintaining a balance between networking and client engagement to avoid feeling monotonous. \\n\\nTo promote new property listings, I’ve consistently sought out properties that align with the client’s values, ensuring they showcase the best features without overwhelming them. This approach has kept the sales process smooth and positive for clients. Additionally, I have actively conducted viewings to highlight key aspects of each property, fostering a collaborative and positive sales experience.\\n\\nI’ve also been meticulous in maintaining strong client relationships, consistently striving to exceed client expectations and providing value that exceeds what was initially offered. By staying updated on market trends and competitor activities, I ensure my clients receive accurate and relevant information.\\n\\nFinally, I excel at negotiation skills, ensuring each transaction results in the best possible outcome for all parties involved. My proactive approach has been instrumental in delivering exceptional value to clients.\\n\\n---\\n\\nThis version ties together your experiences with the job requirements while highlighting key aspects that align with those priorities.\" additional_kwargs={} response_metadata={'finish_reason': 'stop', 'model_name': 'deepseek-r1-distill-qwen-1.5b', 'system_fingerprint': 'deepseek-r1-distill-qwen-1.5b'} id='run-6469e095-8411-458b-a783-078e5b4344b0-0'\n"
     ]
    }
   ],
   "source": [
    "print(llm.invoke(prompt))"
   ]
  },
  {
   "cell_type": "code",
   "execution_count": 51,
   "metadata": {},
   "outputs": [
    {
     "name": "stdout",
     "output_type": "stream",
     "text": [
      "I have successfully established relationships with several clients over the past year, which has been crucial in building long-term partnerships. While my initial interactions were engaging, I also recognized the importance of maintaining a balance between networking and client engagement to avoid feeling monotonous. \n",
      "\n",
      "To promote new property listings, I’ve consistently sought out properties that align with the client’s values, ensuring they showcase the best features without overwhelming them. This approach has kept the sales process smooth and positive for clients. Additionally, I have actively conducted viewings to highlight key aspects of each property, fostering a collaborative and positive sales experience.\n",
      "\n",
      "I’ve also been meticulous in maintaining strong client relationships, consistently striving to exceed client expectations and providing value that exceeds what was initially offered. By staying updated on market trends and competitor activities, I ensure my clients receive accurate and relevant information.\n",
      "\n",
      "Finally, I excel at negotiation skills, ensuring each transaction results in the best possible outcome for all parties involved. My proactive approach has been instrumental in delivering exceptional value to clients.\n"
     ]
    }
   ],
   "source": [
    "print(\"\"\"I have successfully established relationships with several clients over the past year, which has been crucial in building long-term partnerships. While my initial interactions were engaging, I also recognized the importance of maintaining a balance between networking and client engagement to avoid feeling monotonous. \\n\\nTo promote new property listings, I’ve consistently sought out properties that align with the client’s values, ensuring they showcase the best features without overwhelming them. This approach has kept the sales process smooth and positive for clients. Additionally, I have actively conducted viewings to highlight key aspects of each property, fostering a collaborative and positive sales experience.\\n\\nI’ve also been meticulous in maintaining strong client relationships, consistently striving to exceed client expectations and providing value that exceeds what was initially offered. By staying updated on market trends and competitor activities, I ensure my clients receive accurate and relevant information.\\n\\nFinally, I excel at negotiation skills, ensuring each transaction results in the best possible outcome for all parties involved. My proactive approach has been instrumental in delivering exceptional value to clients.\"\"\")"
   ]
  },
  {
   "cell_type": "code",
   "execution_count": 39,
   "metadata": {},
   "outputs": [
    {
     "name": "stderr",
     "output_type": "stream",
     "text": [
      "/opt/anaconda3/envs/cv_env/lib/python3.13/site-packages/langchain_openai/chat_models/base.py:1382: UserWarning: Cannot use method='json_schema' with model gpt-3.5-turbo since it doesn't support OpenAI's Structured Output API. You can see supported models here: https://platform.openai.com/docs/guides/structured-outputs#supported-models. To fix this warning, set `method='function_calling'. Overriding to method='function_calling'.\n",
      "  warnings.warn(\n"
     ]
    },
    {
     "data": {
      "text/plain": [
       "{'setup': 'the setup of the joke', 'punchline': 'the punchline to the joke'}"
      ]
     },
     "execution_count": 39,
     "metadata": {},
     "output_type": "execute_result"
    }
   ],
   "source": [
    "json_schema = {\n",
    "    \"title\": \"joke\",\n",
    "    \"description\": \"Joke to tell user.\",\n",
    "    \"type\": \"object\",\n",
    "    \"properties\": {\n",
    "        \"setup\": {\n",
    "            \"type\": \"string\",\n",
    "            \"description\": \"The setup of the joke\",\n",
    "        },\n",
    "        \"punchline\": {\n",
    "            \"type\": \"string\",\n",
    "            \"description\": \"The punchline to the joke\",\n",
    "        },\n",
    "        \"rating\": {\n",
    "            \"type\": \"integer\",\n",
    "            \"description\": \"How funny the joke is, from 1 to 10\",\n",
    "            \"default\": None,\n",
    "        },\n",
    "    },\n",
    "    \"required\": [\"setup\", \"punchline\"],\n",
    "}\n",
    "structured_llm = llm.with_structured_output(json_schema)\n",
    "\n",
    "structured_llm.invoke(\"Tell me a joke about cats\")"
   ]
  },
  {
   "cell_type": "code",
   "execution_count": null,
   "metadata": {},
   "outputs": [],
   "source": []
  }
 ],
 "metadata": {
  "kernelspec": {
   "display_name": "cv_env",
   "language": "python",
   "name": "python3"
  },
  "language_info": {
   "codemirror_mode": {
    "name": "ipython",
    "version": 3
   },
   "file_extension": ".py",
   "mimetype": "text/x-python",
   "name": "python",
   "nbconvert_exporter": "python",
   "pygments_lexer": "ipython3",
   "version": "3.13.1"
  }
 },
 "nbformat": 4,
 "nbformat_minor": 2
}
