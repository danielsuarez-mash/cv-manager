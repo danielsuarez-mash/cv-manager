{
 "cells": [
  {
   "cell_type": "markdown",
   "metadata": {},
   "source": [
    "# AI-generated CV testing"
   ]
  },
  {
   "cell_type": "markdown",
   "metadata": {},
   "source": [
    "## Data retreival"
   ]
  },
  {
   "cell_type": "code",
   "execution_count": 3,
   "metadata": {},
   "outputs": [],
   "source": [
    "import pandas as pd\n",
    "import psycopg2"
   ]
  },
  {
   "cell_type": "code",
   "execution_count": 18,
   "metadata": {},
   "outputs": [
    {
     "name": "stderr",
     "output_type": "stream",
     "text": [
      "/var/folders/qj/506gdrfn55jc0hchzk5d05540000gn/T/ipykernel_23856/192697586.py:9: UserWarning: pandas only supports SQLAlchemy connectable (engine/connection) or database string URI or sqlite3 DBAPI2 connection. Other DBAPI2 objects are not tested. Please consider using SQLAlchemy.\n",
      "  data = pd.read_sql(query, conn)\n"
     ]
    }
   ],
   "source": [
    "with psycopg2.connect(\n",
    "    dbname=\"cv_manager\",\n",
    "    user=\"cvuser\",\n",
    "    password=\"cvpassword\",\n",
    "    host=\"localhost\",\n",
    "    port='5432'\n",
    ") as conn:\n",
    "    query = \"SELECT * FROM experiences;\"\n",
    "    data = pd.read_sql(query, conn)"
   ]
  },
  {
   "cell_type": "markdown",
   "metadata": {},
   "source": [
    "Let's create a CV for user 1. "
   ]
  },
  {
   "cell_type": "code",
   "execution_count": 57,
   "metadata": {},
   "outputs": [
    {
     "name": "stderr",
     "output_type": "stream",
     "text": [
      "/var/folders/qj/506gdrfn55jc0hchzk5d05540000gn/T/ipykernel_23856/2523801472.py:22: UserWarning: pandas only supports SQLAlchemy connectable (engine/connection) or database string URI or sqlite3 DBAPI2 connection. Other DBAPI2 objects are not tested. Please consider using SQLAlchemy.\n",
      "  data = pd.read_sql(query, conn)\n"
     ]
    },
    {
     "data": {
      "application/vnd.microsoft.datawrangler.viewer.v0+json": {
       "columns": [
        {
         "name": "index",
         "rawType": "int64",
         "type": "integer"
        },
        {
         "name": "organisation",
         "rawType": "object",
         "type": "string"
        },
        {
         "name": "engagement_title",
         "rawType": "object",
         "type": "string"
        },
        {
         "name": "type",
         "rawType": "object",
         "type": "string"
        },
        {
         "name": "experience_title",
         "rawType": "object",
         "type": "string"
        },
        {
         "name": "description",
         "rawType": "object",
         "type": "string"
        }
       ],
       "conversionMethod": "pd.DataFrame",
       "ref": "b30d91e8-1374-4857-95e6-d252182c4d3b",
       "rows": [
        [
         "0",
         "Google",
         "Software Engineer",
         "work",
         "Software Engineer",
         "Situation: Google was scaling its cloud services.\nTask: Led a team to optimize database performance.\nAction: Implemented indexing strategies and query optimizations.\nResult: Achieved a 40% reduction in query response time."
        ],
        [
         "1",
         "Google",
         "Software Engineer",
         "work",
         "Software Engineer",
         "Situation: Google needed a secure authentication system.\nTask: Designed a new OAuth-based system.\nAction: Developed a multi-factor authentication protocol.\nResult: Increased security compliance and reduced fraud by 30%."
        ],
        [
         "2",
         "McDonald’s",
         "Kitchen Hand",
         "work",
         "Kitchen Hand",
         "Situation: High customer volume at McDonald's.\nTask: Ensure quick and efficient food preparation.\nAction: Streamlined ingredient preparation process.\nResult: Reduced average food preparation time by 15%."
        ],
        [
         "3",
         "McDonald’s",
         "Kitchen Hand",
         "work",
         "Kitchen Hand",
         "Situation: Frequent errors in order fulfillment.\nTask: Improve order accuracy.\nAction: Introduced a double-checking system.\nResult: Decreased incorrect orders by 20%."
        ],
        [
         "4",
         "Self-employed",
         "Software Engineer",
         "side-hustle",
         "Software Engineer",
         "Situation: Developed custom web applications for clients.\nTask: Improve business efficiency through automation.\nAction: Created automated workflows using Python and JavaScript.\nResult: Saved clients an average of 10 hours per week on manual tasks."
        ],
        [
         "5",
         "Self-employed",
         "Software Engineer",
         "side-hustle",
         "Software Engineer",
         "Situation: Clients needed better data insights.\nTask: Build analytics dashboards.\nAction: Implemented real-time data visualization.\nResult: Increased client decision-making speed by 25%."
        ],
        [
         "6",
         "MIT",
         "Computer Science BSc",
         "education",
         "Computer Science BSc",
         "Situation: Studying foundational computer science.\nTask: Complete coursework on algorithms and systems.\nAction: Developed a real-time operating system simulation.\nResult: Earned top marks and presented at a student conference."
        ]
       ],
       "shape": {
        "columns": 5,
        "rows": 7
       }
      },
      "text/html": [
       "<div>\n",
       "<style scoped>\n",
       "    .dataframe tbody tr th:only-of-type {\n",
       "        vertical-align: middle;\n",
       "    }\n",
       "\n",
       "    .dataframe tbody tr th {\n",
       "        vertical-align: top;\n",
       "    }\n",
       "\n",
       "    .dataframe thead th {\n",
       "        text-align: right;\n",
       "    }\n",
       "</style>\n",
       "<table border=\"1\" class=\"dataframe\">\n",
       "  <thead>\n",
       "    <tr style=\"text-align: right;\">\n",
       "      <th></th>\n",
       "      <th>organisation</th>\n",
       "      <th>engagement_title</th>\n",
       "      <th>type</th>\n",
       "      <th>experience_title</th>\n",
       "      <th>description</th>\n",
       "    </tr>\n",
       "  </thead>\n",
       "  <tbody>\n",
       "    <tr>\n",
       "      <th>0</th>\n",
       "      <td>Google</td>\n",
       "      <td>Software Engineer</td>\n",
       "      <td>work</td>\n",
       "      <td>Software Engineer</td>\n",
       "      <td>Situation: Google was scaling its cloud servic...</td>\n",
       "    </tr>\n",
       "    <tr>\n",
       "      <th>1</th>\n",
       "      <td>Google</td>\n",
       "      <td>Software Engineer</td>\n",
       "      <td>work</td>\n",
       "      <td>Software Engineer</td>\n",
       "      <td>Situation: Google needed a secure authenticati...</td>\n",
       "    </tr>\n",
       "    <tr>\n",
       "      <th>2</th>\n",
       "      <td>McDonald’s</td>\n",
       "      <td>Kitchen Hand</td>\n",
       "      <td>work</td>\n",
       "      <td>Kitchen Hand</td>\n",
       "      <td>Situation: High customer volume at McDonald's....</td>\n",
       "    </tr>\n",
       "    <tr>\n",
       "      <th>3</th>\n",
       "      <td>McDonald’s</td>\n",
       "      <td>Kitchen Hand</td>\n",
       "      <td>work</td>\n",
       "      <td>Kitchen Hand</td>\n",
       "      <td>Situation: Frequent errors in order fulfillmen...</td>\n",
       "    </tr>\n",
       "    <tr>\n",
       "      <th>4</th>\n",
       "      <td>Self-employed</td>\n",
       "      <td>Software Engineer</td>\n",
       "      <td>side-hustle</td>\n",
       "      <td>Software Engineer</td>\n",
       "      <td>Situation: Developed custom web applications f...</td>\n",
       "    </tr>\n",
       "    <tr>\n",
       "      <th>5</th>\n",
       "      <td>Self-employed</td>\n",
       "      <td>Software Engineer</td>\n",
       "      <td>side-hustle</td>\n",
       "      <td>Software Engineer</td>\n",
       "      <td>Situation: Clients needed better data insights...</td>\n",
       "    </tr>\n",
       "    <tr>\n",
       "      <th>6</th>\n",
       "      <td>MIT</td>\n",
       "      <td>Computer Science BSc</td>\n",
       "      <td>education</td>\n",
       "      <td>Computer Science BSc</td>\n",
       "      <td>Situation: Studying foundational computer scie...</td>\n",
       "    </tr>\n",
       "  </tbody>\n",
       "</table>\n",
       "</div>"
      ],
      "text/plain": [
       "    organisation      engagement_title         type      experience_title  \\\n",
       "0         Google     Software Engineer         work     Software Engineer   \n",
       "1         Google     Software Engineer         work     Software Engineer   \n",
       "2     McDonald’s          Kitchen Hand         work          Kitchen Hand   \n",
       "3     McDonald’s          Kitchen Hand         work          Kitchen Hand   \n",
       "4  Self-employed     Software Engineer  side-hustle     Software Engineer   \n",
       "5  Self-employed     Software Engineer  side-hustle     Software Engineer   \n",
       "6            MIT  Computer Science BSc    education  Computer Science BSc   \n",
       "\n",
       "                                         description  \n",
       "0  Situation: Google was scaling its cloud servic...  \n",
       "1  Situation: Google needed a secure authenticati...  \n",
       "2  Situation: High customer volume at McDonald's....  \n",
       "3  Situation: Frequent errors in order fulfillmen...  \n",
       "4  Situation: Developed custom web applications f...  \n",
       "5  Situation: Clients needed better data insights...  \n",
       "6  Situation: Studying foundational computer scie...  "
      ]
     },
     "execution_count": 57,
     "metadata": {},
     "output_type": "execute_result"
    }
   ],
   "source": [
    "# let's create a CV for user 1\n",
    "query = \"\"\"\n",
    "SELECT \n",
    "    e.organisation,\n",
    "    e.title as engagement_title,\n",
    "    ex.type,\n",
    "    ex.title as experience_title,\n",
    "    ex.description\n",
    "FROM \n",
    "    users u\n",
    "LEFT JOIN engagements e on u.user_id = e.user_id\n",
    "LEFT JOIN experiences ex on e.engagement_id = ex.engagement_id\n",
    "where u.user_id=1;\n",
    "\"\"\"\n",
    "with psycopg2.connect(\n",
    "    dbname=\"cv_manager\",\n",
    "    user=\"cvuser\",\n",
    "    password=\"cvpassword\",\n",
    "    host=\"localhost\",\n",
    "    port='5432'\n",
    ") as conn:\n",
    "    data = pd.read_sql(query, conn)\n",
    "\n",
    "data"
   ]
  },
  {
   "cell_type": "markdown",
   "metadata": {},
   "source": [
    "# CV generation\n",
    "\n",
    "Let's create a crew of agents who can generate a CV. First, let's build an agent which can, when given a job description, identify the most relevant experiences from a master CV."
   ]
  },
  {
   "cell_type": "markdown",
   "metadata": {},
   "source": [
    "## Agent 1 - choosing experience most relevant to the job description"
   ]
  },
  {
   "cell_type": "code",
   "execution_count": 244,
   "metadata": {},
   "outputs": [],
   "source": [
    "from langchain_openai import ChatOpenAI\n",
    "\n",
    "llm = ChatOpenAI(\n",
    "    base_url=\"http://127.0.0.1:1234/v1\",\n",
    "    api_key=\"lm-studio\",\n",
    "    verbose=True\n",
    ")"
   ]
  },
  {
   "cell_type": "code",
   "execution_count": 245,
   "metadata": {},
   "outputs": [],
   "source": [
    "role = \"Senior Software Engineer\"\n",
    "\n",
    "job_requirements = \"\"\"\n",
    "What it's all about…\n",
    "\n",
    "As a Engineering Tech Lead, you will be responsible for:\n",
    "\n",
    "Define and communicate technical strategies aligning with business strategies\n",
    "Identify, and evaluate technical solutions to drive product and ecommerce vision\n",
    "Identify and implement new technologies, tools and processes to enhance efficiency and product quality\n",
    "Design and develop scalable and efficient systems\n",
    "Optimise system performance, enhance security and maintain high-quality codebases\n",
    "Implement and manage CI/CD pipelines for streamlined software development\n",
    "Conduct code reviews, establish coding standards and best practices\n",
    "Lead, mentor and inspire a team of engineers\n",
    "Encourage collaboration and continuous improvement\n",
    "Represent the engineering team and contribute to planning and decision making\n",
    "Ensure seamless integration across frontend and backend components\n",
    "Collaborate on database scaling and optimisation using technologies such as MySQL and PlanetScale\n",
    "Work closely with the Product Manager to define and prioritise the roadmap ensuring technical deliverables\n",
    "What we will need from you…\n",
    "\n",
    "Previous experience working in a frontend and backend software engineering role\n",
    "Proven experience in leading a technical team and mentoring engineers\n",
    "Strong proficiency in JavaScript, TypeScript and modern web frameworks (React, Node.js)\n",
    "Solid understanding of web service architectures (REST, GraphQL)\n",
    "Experience with web analytics platforms (GA4, Google Tag Manager) and tracking strategies\n",
    "Experience with cloud-based infrastructure (Fly.io, AWS) and container technologies (Docker)\n",
    "Experience with Agile methodologies and collaborative tools (Notion, JIRA, Trello)\n",
    "Demonstrated success in delivering and optimising digital products\n",
    "Knowledge in testing strategies, performance optimisation and DevOps principles\n",
    "A passion for continuous learning and driving technical innovation\n",
    "Excellent problem-solving skills and attention to detail\n",
    "Strong communication skills\n",
    "\"\"\""
   ]
  },
  {
   "cell_type": "code",
   "execution_count": 246,
   "metadata": {},
   "outputs": [],
   "source": [
    "from langchain_core.prompts import ChatPromptTemplate\n",
    "\n",
    "system_prompt = \"\"\"\n",
    "You are a professional career coach. You will be given a master CV and details of the role which the user is applying for.\n",
    "Your job is to identify the top 3 most relevant work experiences and explain why. \n",
    "\"\"\"\n",
    "\n",
    "user_prompt = \"\"\"\n",
    "Role: {role}\n",
    "\n",
    "Job Requirements: {job_requirements}\n",
    "\n",
    "Master CV: {master_cv}\n",
    "\n",
    "### Output format:\n",
    "Ensure `choices`, `reasoning` and `selected_experiences` are **valid Python lists**, not strings of lists.\n",
    "\"\"\"\n",
    "\n",
    "\n",
    "prompt_template = ChatPromptTemplate.from_messages(\n",
    "    [(\"system\", system_prompt),\n",
    "     (\"user\", user_prompt)]\n",
    ")"
   ]
  },
  {
   "cell_type": "code",
   "execution_count": 247,
   "metadata": {},
   "outputs": [
    {
     "name": "stdout",
     "output_type": "stream",
     "text": [
      "\n",
      "Role: Senior Software Engineer\n",
      "\n",
      "Job Requirements: \n",
      "What it's all about…\n",
      "\n",
      "As a Engineering Tech Lead, you will be responsible for:\n",
      "\n",
      "Define and communicate technical strategies aligning with business strategies\n",
      "Identify, and evaluate technical solutions to drive product and ecommerce vision\n",
      "Identify and implement new technologies, tools and processes to enhance efficiency and product quality\n",
      "Design and develop scalable and efficient systems\n",
      "Optimise system performance, enhance security and maintain high-quality codebases\n",
      "Implement and manage CI/CD pipelines for streamlined software development\n",
      "Conduct code reviews, establish coding standards and best practices\n",
      "Lead, mentor and inspire a team of engineers\n",
      "Encourage collaboration and continuous improvement\n",
      "Represent the engineering team and contribute to planning and decision making\n",
      "Ensure seamless integration across frontend and backend components\n",
      "Collaborate on database scaling and optimisation using technologies such as MySQL and PlanetScale\n",
      "Work closely with the Product Manager to define and prioritise the roadmap ensuring technical deliverables\n",
      "What we will need from you…\n",
      "\n",
      "Previous experience working in a frontend and backend software engineering role\n",
      "Proven experience in leading a technical team and mentoring engineers\n",
      "Strong proficiency in JavaScript, TypeScript and modern web frameworks (React, Node.js)\n",
      "Solid understanding of web service architectures (REST, GraphQL)\n",
      "Experience with web analytics platforms (GA4, Google Tag Manager) and tracking strategies\n",
      "Experience with cloud-based infrastructure (Fly.io, AWS) and container technologies (Docker)\n",
      "Experience with Agile methodologies and collaborative tools (Notion, JIRA, Trello)\n",
      "Demonstrated success in delivering and optimising digital products\n",
      "Knowledge in testing strategies, performance optimisation and DevOps principles\n",
      "A passion for continuous learning and driving technical innovation\n",
      "Excellent problem-solving skills and attention to detail\n",
      "Strong communication skills\n",
      "\n",
      "\n",
      "Master CV:     organisation      engagement_title         type      experience_title  \\\n",
      "0         Google     Software Engineer         work     Software Engineer   \n",
      "1         Google     Software Engineer         work     Software Engineer   \n",
      "2     McDonald’s          Kitchen Hand         work          Kitchen Hand   \n",
      "3     McDonald’s          Kitchen Hand         work          Kitchen Hand   \n",
      "4  Self-employed     Software Engineer  side-hustle     Software Engineer   \n",
      "5  Self-employed     Software Engineer  side-hustle     Software Engineer   \n",
      "6            MIT  Computer Science BSc    education  Computer Science BSc   \n",
      "\n",
      "                                         description  \n",
      "0  Situation: Google was scaling its cloud servic...  \n",
      "1  Situation: Google needed a secure authenticati...  \n",
      "2  Situation: High customer volume at McDonald's....  \n",
      "3  Situation: Frequent errors in order fulfillmen...  \n",
      "4  Situation: Developed custom web applications f...  \n",
      "5  Situation: Clients needed better data insights...  \n",
      "6  Situation: Studying foundational computer scie...  \n",
      "\n",
      "### Output format:\n",
      "Ensure `choices`, `reasoning` and `selected_experiences` are **valid Python lists**, not strings of lists.\n",
      "\n"
     ]
    }
   ],
   "source": [
    "prompt = prompt_template.invoke({\"role\": role, \"job_requirements\": job_requirements, \"master_cv\": data})\n",
    "print(prompt.to_messages()[1].content)"
   ]
  },
  {
   "cell_type": "code",
   "execution_count": 248,
   "metadata": {},
   "outputs": [
    {
     "name": "stderr",
     "output_type": "stream",
     "text": [
      "/opt/anaconda3/envs/cv_env/lib/python3.13/site-packages/langchain_openai/chat_models/base.py:1382: UserWarning: Cannot use method='json_schema' with model gpt-3.5-turbo since it doesn't support OpenAI's Structured Output API. You can see supported models here: https://platform.openai.com/docs/guides/structured-outputs#supported-models. To fix this warning, set `method='function_calling'. Overriding to method='function_calling'.\n",
      "  warnings.warn(\n"
     ]
    }
   ],
   "source": [
    "from pydantic import BaseModel, Field, field_validator\n",
    "from typing import List\n",
    "import json\n",
    "\n",
    "# Pydantic\n",
    "class ExperienceSelection(BaseModel):\n",
    "    \"\"\"Structured selection of work experiences for job matching.\"\"\"\n",
    "\n",
    "    choices: List[int] = Field(description=\"Indexes of the top 3 selected experiences from the Master CV, in order of relevance.\")\n",
    "    selected_experiences: List[str] = Field(description=\"The actual descriptions of the selected experiences\")\n",
    "    reasons: List[str] = Field(description=\"A reason for choosing each experience.\")\n",
    "\n",
    "    @field_validator(\"choices\", mode=\"before\")\n",
    "    @classmethod\n",
    "    def parse_list_of_integers(cls, value):\n",
    "        \"\"\"Ensure choices is always a list of integers\"\"\"\n",
    "        if isinstance(value, str):\n",
    "            try:\n",
    "                return json.loads(value)  # Convert string to list\n",
    "            except json.JSONDecodeError:\n",
    "                raise ValueError(f\"Invalid list format: {value}\")\n",
    "        return value  # Already a list, return as is\n",
    "    \n",
    "    @field_validator(\"selected_experiences\", \"reasons\", mode=\"before\")\n",
    "    @classmethod\n",
    "    def parse_list_of_strings(cls, value):\n",
    "        \"\"\"Ensure selected_experiences is always a list of strings.\"\"\"\n",
    "        if isinstance(value, str):\n",
    "            try:\n",
    "                return json.loads(value)  # Convert string to list\n",
    "            except json.JSONDecodeError:\n",
    "                raise ValueError(f\"Invalid list format: {value}\")\n",
    "        return value  # Already a list, return as is\n",
    "\n",
    "\n",
    "structured_llm = llm.with_structured_output(ExperienceSelection)\n",
    "\n",
    "chain = prompt_template | structured_llm"
   ]
  },
  {
   "cell_type": "code",
   "execution_count": 249,
   "metadata": {},
   "outputs": [],
   "source": [
    "response = chain.invoke({\"role\": role, \"job_requirements\": job_requirements, \"master_cv\": data})"
   ]
  },
  {
   "cell_type": "code",
   "execution_count": 250,
   "metadata": {},
   "outputs": [
    {
     "data": {
      "application/vnd.microsoft.datawrangler.viewer.v0+json": {
       "columns": [
        {
         "name": "index",
         "rawType": "int64",
         "type": "integer"
        },
        {
         "name": "organisation",
         "rawType": "object",
         "type": "string"
        },
        {
         "name": "engagement_title",
         "rawType": "object",
         "type": "string"
        },
        {
         "name": "type",
         "rawType": "object",
         "type": "string"
        },
        {
         "name": "experience_title",
         "rawType": "object",
         "type": "string"
        },
        {
         "name": "description",
         "rawType": "object",
         "type": "string"
        }
       ],
       "conversionMethod": "pd.DataFrame",
       "ref": "84d384cd-60aa-477a-a292-7ee38c08b56c",
       "rows": [
        [
         "0",
         "Google",
         "Software Engineer",
         "work",
         "Software Engineer",
         "Situation: Google was scaling its cloud services.\nTask: Led a team to optimize database performance.\nAction: Implemented indexing strategies and query optimizations.\nResult: Achieved a 40% reduction in query response time."
        ],
        [
         "1",
         "Google",
         "Software Engineer",
         "work",
         "Software Engineer",
         "Situation: Google needed a secure authentication system.\nTask: Designed a new OAuth-based system.\nAction: Developed a multi-factor authentication protocol.\nResult: Increased security compliance and reduced fraud by 30%."
        ],
        [
         "2",
         "McDonald’s",
         "Kitchen Hand",
         "work",
         "Kitchen Hand",
         "Situation: High customer volume at McDonald's.\nTask: Ensure quick and efficient food preparation.\nAction: Streamlined ingredient preparation process.\nResult: Reduced average food preparation time by 15%."
        ],
        [
         "3",
         "McDonald’s",
         "Kitchen Hand",
         "work",
         "Kitchen Hand",
         "Situation: Frequent errors in order fulfillment.\nTask: Improve order accuracy.\nAction: Introduced a double-checking system.\nResult: Decreased incorrect orders by 20%."
        ],
        [
         "4",
         "Self-employed",
         "Software Engineer",
         "side-hustle",
         "Software Engineer",
         "Situation: Developed custom web applications for clients.\nTask: Improve business efficiency through automation.\nAction: Created automated workflows using Python and JavaScript.\nResult: Saved clients an average of 10 hours per week on manual tasks."
        ],
        [
         "5",
         "Self-employed",
         "Software Engineer",
         "side-hustle",
         "Software Engineer",
         "Situation: Clients needed better data insights.\nTask: Build analytics dashboards.\nAction: Implemented real-time data visualization.\nResult: Increased client decision-making speed by 25%."
        ],
        [
         "6",
         "MIT",
         "Computer Science BSc",
         "education",
         "Computer Science BSc",
         "Situation: Studying foundational computer science.\nTask: Complete coursework on algorithms and systems.\nAction: Developed a real-time operating system simulation.\nResult: Earned top marks and presented at a student conference."
        ]
       ],
       "shape": {
        "columns": 5,
        "rows": 7
       }
      },
      "text/html": [
       "<div>\n",
       "<style scoped>\n",
       "    .dataframe tbody tr th:only-of-type {\n",
       "        vertical-align: middle;\n",
       "    }\n",
       "\n",
       "    .dataframe tbody tr th {\n",
       "        vertical-align: top;\n",
       "    }\n",
       "\n",
       "    .dataframe thead th {\n",
       "        text-align: right;\n",
       "    }\n",
       "</style>\n",
       "<table border=\"1\" class=\"dataframe\">\n",
       "  <thead>\n",
       "    <tr style=\"text-align: right;\">\n",
       "      <th></th>\n",
       "      <th>organisation</th>\n",
       "      <th>engagement_title</th>\n",
       "      <th>type</th>\n",
       "      <th>experience_title</th>\n",
       "      <th>description</th>\n",
       "    </tr>\n",
       "  </thead>\n",
       "  <tbody>\n",
       "    <tr>\n",
       "      <th>0</th>\n",
       "      <td>Google</td>\n",
       "      <td>Software Engineer</td>\n",
       "      <td>work</td>\n",
       "      <td>Software Engineer</td>\n",
       "      <td>Situation: Google was scaling its cloud servic...</td>\n",
       "    </tr>\n",
       "    <tr>\n",
       "      <th>1</th>\n",
       "      <td>Google</td>\n",
       "      <td>Software Engineer</td>\n",
       "      <td>work</td>\n",
       "      <td>Software Engineer</td>\n",
       "      <td>Situation: Google needed a secure authenticati...</td>\n",
       "    </tr>\n",
       "    <tr>\n",
       "      <th>2</th>\n",
       "      <td>McDonald’s</td>\n",
       "      <td>Kitchen Hand</td>\n",
       "      <td>work</td>\n",
       "      <td>Kitchen Hand</td>\n",
       "      <td>Situation: High customer volume at McDonald's....</td>\n",
       "    </tr>\n",
       "    <tr>\n",
       "      <th>3</th>\n",
       "      <td>McDonald’s</td>\n",
       "      <td>Kitchen Hand</td>\n",
       "      <td>work</td>\n",
       "      <td>Kitchen Hand</td>\n",
       "      <td>Situation: Frequent errors in order fulfillmen...</td>\n",
       "    </tr>\n",
       "    <tr>\n",
       "      <th>4</th>\n",
       "      <td>Self-employed</td>\n",
       "      <td>Software Engineer</td>\n",
       "      <td>side-hustle</td>\n",
       "      <td>Software Engineer</td>\n",
       "      <td>Situation: Developed custom web applications f...</td>\n",
       "    </tr>\n",
       "    <tr>\n",
       "      <th>5</th>\n",
       "      <td>Self-employed</td>\n",
       "      <td>Software Engineer</td>\n",
       "      <td>side-hustle</td>\n",
       "      <td>Software Engineer</td>\n",
       "      <td>Situation: Clients needed better data insights...</td>\n",
       "    </tr>\n",
       "    <tr>\n",
       "      <th>6</th>\n",
       "      <td>MIT</td>\n",
       "      <td>Computer Science BSc</td>\n",
       "      <td>education</td>\n",
       "      <td>Computer Science BSc</td>\n",
       "      <td>Situation: Studying foundational computer scie...</td>\n",
       "    </tr>\n",
       "  </tbody>\n",
       "</table>\n",
       "</div>"
      ],
      "text/plain": [
       "    organisation      engagement_title         type      experience_title  \\\n",
       "0         Google     Software Engineer         work     Software Engineer   \n",
       "1         Google     Software Engineer         work     Software Engineer   \n",
       "2     McDonald’s          Kitchen Hand         work          Kitchen Hand   \n",
       "3     McDonald’s          Kitchen Hand         work          Kitchen Hand   \n",
       "4  Self-employed     Software Engineer  side-hustle     Software Engineer   \n",
       "5  Self-employed     Software Engineer  side-hustle     Software Engineer   \n",
       "6            MIT  Computer Science BSc    education  Computer Science BSc   \n",
       "\n",
       "                                         description  \n",
       "0  Situation: Google was scaling its cloud servic...  \n",
       "1  Situation: Google needed a secure authenticati...  \n",
       "2  Situation: High customer volume at McDonald's....  \n",
       "3  Situation: Frequent errors in order fulfillmen...  \n",
       "4  Situation: Developed custom web applications f...  \n",
       "5  Situation: Clients needed better data insights...  \n",
       "6  Situation: Studying foundational computer scie...  "
      ]
     },
     "execution_count": 250,
     "metadata": {},
     "output_type": "execute_result"
    }
   ],
   "source": [
    "data"
   ]
  },
  {
   "cell_type": "code",
   "execution_count": 251,
   "metadata": {},
   "outputs": [
    {
     "data": {
      "application/vnd.microsoft.datawrangler.viewer.v0+json": {
       "columns": [
        {
         "name": "index",
         "rawType": "int64",
         "type": "integer"
        },
        {
         "name": "organisation",
         "rawType": "object",
         "type": "string"
        },
        {
         "name": "engagement_title",
         "rawType": "object",
         "type": "string"
        },
        {
         "name": "type",
         "rawType": "object",
         "type": "string"
        },
        {
         "name": "experience_title",
         "rawType": "object",
         "type": "string"
        },
        {
         "name": "description",
         "rawType": "object",
         "type": "string"
        }
       ],
       "conversionMethod": "pd.DataFrame",
       "ref": "0fb61e21-ec32-4166-86df-ce17fddcb9c1",
       "rows": [
        [
         "0",
         "Google",
         "Software Engineer",
         "work",
         "Software Engineer",
         "Situation: Google was scaling its cloud services.\nTask: Led a team to optimize database performance.\nAction: Implemented indexing strategies and query optimizations.\nResult: Achieved a 40% reduction in query response time."
        ],
        [
         "4",
         "Self-employed",
         "Software Engineer",
         "side-hustle",
         "Software Engineer",
         "Situation: Developed custom web applications for clients.\nTask: Improve business efficiency through automation.\nAction: Created automated workflows using Python and JavaScript.\nResult: Saved clients an average of 10 hours per week on manual tasks."
        ],
        [
         "5",
         "Self-employed",
         "Software Engineer",
         "side-hustle",
         "Software Engineer",
         "Situation: Clients needed better data insights.\nTask: Build analytics dashboards.\nAction: Implemented real-time data visualization.\nResult: Increased client decision-making speed by 25%."
        ]
       ],
       "shape": {
        "columns": 5,
        "rows": 3
       }
      },
      "text/html": [
       "<div>\n",
       "<style scoped>\n",
       "    .dataframe tbody tr th:only-of-type {\n",
       "        vertical-align: middle;\n",
       "    }\n",
       "\n",
       "    .dataframe tbody tr th {\n",
       "        vertical-align: top;\n",
       "    }\n",
       "\n",
       "    .dataframe thead th {\n",
       "        text-align: right;\n",
       "    }\n",
       "</style>\n",
       "<table border=\"1\" class=\"dataframe\">\n",
       "  <thead>\n",
       "    <tr style=\"text-align: right;\">\n",
       "      <th></th>\n",
       "      <th>organisation</th>\n",
       "      <th>engagement_title</th>\n",
       "      <th>type</th>\n",
       "      <th>experience_title</th>\n",
       "      <th>description</th>\n",
       "    </tr>\n",
       "  </thead>\n",
       "  <tbody>\n",
       "    <tr>\n",
       "      <th>0</th>\n",
       "      <td>Google</td>\n",
       "      <td>Software Engineer</td>\n",
       "      <td>work</td>\n",
       "      <td>Software Engineer</td>\n",
       "      <td>Situation: Google was scaling its cloud servic...</td>\n",
       "    </tr>\n",
       "    <tr>\n",
       "      <th>4</th>\n",
       "      <td>Self-employed</td>\n",
       "      <td>Software Engineer</td>\n",
       "      <td>side-hustle</td>\n",
       "      <td>Software Engineer</td>\n",
       "      <td>Situation: Developed custom web applications f...</td>\n",
       "    </tr>\n",
       "    <tr>\n",
       "      <th>5</th>\n",
       "      <td>Self-employed</td>\n",
       "      <td>Software Engineer</td>\n",
       "      <td>side-hustle</td>\n",
       "      <td>Software Engineer</td>\n",
       "      <td>Situation: Clients needed better data insights...</td>\n",
       "    </tr>\n",
       "  </tbody>\n",
       "</table>\n",
       "</div>"
      ],
      "text/plain": [
       "    organisation   engagement_title         type   experience_title  \\\n",
       "0         Google  Software Engineer         work  Software Engineer   \n",
       "4  Self-employed  Software Engineer  side-hustle  Software Engineer   \n",
       "5  Self-employed  Software Engineer  side-hustle  Software Engineer   \n",
       "\n",
       "                                         description  \n",
       "0  Situation: Google was scaling its cloud servic...  \n",
       "4  Situation: Developed custom web applications f...  \n",
       "5  Situation: Clients needed better data insights...  "
      ]
     },
     "execution_count": 251,
     "metadata": {},
     "output_type": "execute_result"
    }
   ],
   "source": [
    "data.iloc[response.choices, :]"
   ]
  },
  {
   "cell_type": "markdown",
   "metadata": {},
   "source": [
    "## Agent 2 - rewriting experiences into bullet points"
   ]
  },
  {
   "cell_type": "code",
   "execution_count": 236,
   "metadata": {},
   "outputs": [],
   "source": [
    "system_prompt2 = \"\"\"\n",
    "You are a professional CV writer. Rewrite the relevant experience below as a short bullet point. Always include the action and result from the experience. Do not make anything up. Ensure your output is the bullet point only and ready to be used in a CV.\n",
    "\n",
    "\"\"\"\n",
    "\n",
    "user_prompt2 = \"\"\"\n",
    "User's relevant experience: \n",
    "{relevant_experience}\n",
    "\"\"\"\n",
    "\n",
    "\n",
    "prompt_template2 = ChatPromptTemplate.from_messages(\n",
    "    [(\"system\", system_prompt2),\n",
    "     (\"user\", user_prompt2)]\n",
    ")"
   ]
  },
  {
   "cell_type": "code",
   "execution_count": 237,
   "metadata": {},
   "outputs": [
    {
     "name": "stderr",
     "output_type": "stream",
     "text": [
      "/opt/anaconda3/envs/cv_env/lib/python3.13/site-packages/langchain_openai/chat_models/base.py:1382: UserWarning: Cannot use method='json_schema' with model gpt-3.5-turbo since it doesn't support OpenAI's Structured Output API. You can see supported models here: https://platform.openai.com/docs/guides/structured-outputs#supported-models. To fix this warning, set `method='function_calling'. Overriding to method='function_calling'.\n",
      "  warnings.warn(\n"
     ]
    }
   ],
   "source": [
    "# Pydantic\n",
    "class BulletPoints(BaseModel):\n",
    "    \"\"\"Structured bullet points of work experiences for job matching.\"\"\"\n",
    "\n",
    "    bullet_points: List[str] = Field(description=\"Bullet point for each of the relevant experience provided, written in past tense\")\n",
    "\n",
    "    @field_validator(\"bullet_points\", mode=\"before\")\n",
    "    @classmethod\n",
    "    def parse_list_of_strings(cls, value):\n",
    "        \"\"\"Ensure bullet_points is always a list of strings.\"\"\"\n",
    "        if isinstance(value, str):\n",
    "            try:\n",
    "                return json.loads(value)  # Convert string to list\n",
    "            except json.JSONDecodeError:\n",
    "                raise ValueError(f\"Invalid list format: {value}\")\n",
    "        return value  # Already a list, return as is\n",
    "\n",
    "\n",
    "structured_llm2 = llm.with_structured_output(BulletPoints)\n",
    "\n",
    "chain2 = prompt_template2 | llm"
   ]
  },
  {
   "cell_type": "code",
   "execution_count": 238,
   "metadata": {},
   "outputs": [
    {
     "name": "stdout",
     "output_type": "stream",
     "text": [
      "\n",
      "User's relevant experience: \n",
      "organisation                                                   Google\n",
      "engagement_title                                    Software Engineer\n",
      "type                                                             work\n",
      "experience_title                                    Software Engineer\n",
      "description         Situation: Google was scaling its cloud servic...\n",
      "Name: 0, dtype: object\n",
      "\n"
     ]
    }
   ],
   "source": [
    "print(prompt_template2.invoke({\"relevant_experience\": data.iloc[response.choices[0], :]}).to_messages()[1].content)"
   ]
  },
  {
   "cell_type": "code",
   "execution_count": 239,
   "metadata": {},
   "outputs": [
    {
     "name": "stdout",
     "output_type": "stream",
     "text": [
      "experience_title                                    Software Engineer\n",
      "description         Situation: Google was scaling its cloud servic...\n",
      "Name: 0, dtype: object\n"
     ]
    }
   ],
   "source": [
    "print(data.iloc[response.choices[0]][['experience_title', 'description']])"
   ]
  },
  {
   "cell_type": "code",
   "execution_count": 242,
   "metadata": {},
   "outputs": [],
   "source": [
    "response2 = chain2.invoke({\"relevant_experience\": data.iloc[response.choices[1]][['experience_title', 'description']]})"
   ]
  },
  {
   "cell_type": "code",
   "execution_count": 243,
   "metadata": {},
   "outputs": [
    {
     "name": "stdout",
     "output_type": "stream",
     "text": [
      "• Developed and implemented multiple security protocols for Google's authentication system, resulting in a 99.9% success rate of secure login transactions.\n"
     ]
    }
   ],
   "source": [
    "print(response2.content)"
   ]
  },
  {
   "cell_type": "code",
   "execution_count": null,
   "metadata": {},
   "outputs": [],
   "source": []
  }
 ],
 "metadata": {
  "kernelspec": {
   "display_name": "cv_env",
   "language": "python",
   "name": "python3"
  },
  "language_info": {
   "codemirror_mode": {
    "name": "ipython",
    "version": 3
   },
   "file_extension": ".py",
   "mimetype": "text/x-python",
   "name": "python",
   "nbconvert_exporter": "python",
   "pygments_lexer": "ipython3",
   "version": "3.13.1"
  }
 },
 "nbformat": 4,
 "nbformat_minor": 2
}
